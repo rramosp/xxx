{
 "cells": [
  {
   "cell_type": "markdown",
   "metadata": {},
   "source": [
    "# LAB 01 - Submission example"
   ]
  },
  {
   "cell_type": "code",
   "execution_count": 17,
   "metadata": {},
   "outputs": [
    {
     "data": {
      "text/html": [
       "<h3>See <a href='https://m5knaekxo6.execute-api.us-west-2.amazonaws.com/dev-v0001/rlxmooc/web/login' target='_blank'>my courses and progress</a></h2>"
      ],
      "text/plain": [
       "<IPython.core.display.HTML object>"
      ]
     },
     "execution_count": 17,
     "metadata": {},
     "output_type": "execute_result"
    }
   ],
   "source": [
    "!wget -nc --no-cache -O init.py -q https://raw.githubusercontent.com/rramosp/xxx/main/content/init.py\n",
    "import init; init.init(force_download=False); init.get_weblink()"
   ]
  },
  {
   "cell_type": "code",
   "execution_count": null,
   "metadata": {},
   "outputs": [],
   "source": [
    "from local.lib.rlxmoocapi import submit, session\n",
    "import inspect\n",
    "student = session.Session(init.endpoint).login( course_id=init.course_id, \n",
    "                                                lab_id=\"L01.01\" )"
   ]
  },
  {
   "cell_type": "code",
   "execution_count": 18,
   "metadata": {},
   "outputs": [],
   "source": [
    "import numpy as np"
   ]
  },
  {
   "cell_type": "markdown",
   "metadata": {},
   "source": [
    "## Ejercicio 1: Obtén el máximo y el mínimo de una lista\n",
    "\n",
    "Una de las estructuras de datos en python son las listas, y aprender a obtener datos de ellas es importante para el manejo del lenguaje, por esto vamos a hallar el **max** y el **min** de una de ellas\n",
    "\n",
    "Ejemplo:\n",
    "    [1, 7, 11, 3, 5, 2]\n",
    "    \n",
    "    el minimo valor es 1\n",
    "    el valor maximo es 11\n",
    "    \n",
    "Deberás de calcular el máximo y mínimo de la siguiente lista. Puedes obtenerlos como quieras (a mano, programando en python, con excel, etc.).    "
   ]
  },
  {
   "cell_type": "code",
   "execution_count": 19,
   "metadata": {},
   "outputs": [
    {
     "data": {
      "text/plain": [
       "array([26, 40, 32, 39, 31, 23, 10, 39, 36, 24, 20, 10, 13, 24, 31, 23, 16,\n",
       "       29, 43, 18])"
      ]
     },
     "execution_count": 19,
     "metadata": {},
     "output_type": "execute_result"
    }
   ],
   "source": [
    "lst = np.random.randint(50, size=20)\n",
    "lst"
   ]
  },
  {
   "cell_type": "markdown",
   "metadata": {},
   "source": [
    "**Tu solución**\n",
    "\n",
    "Debes de asignar a las variables max y min el valor del maximo y minimo valor en la lista list"
   ]
  },
  {
   "cell_type": "code",
   "execution_count": 20,
   "metadata": {},
   "outputs": [],
   "source": [
    "maximum = ...\n",
    "minimum = ..."
   ]
  },
  {
   "cell_type": "code",
   "execution_count": 21,
   "metadata": {},
   "outputs": [
    {
     "data": {
      "text/plain": [
       "(43, 10)"
      ]
     },
     "execution_count": 21,
     "metadata": {},
     "output_type": "execute_result"
    }
   ],
   "source": [
    "## TEACHER\n",
    "maximum = np.max(lst)\n",
    "minimum = np.min(lst)\n",
    "maximum, minimum"
   ]
  },
  {
   "cell_type": "code",
   "execution_count": 22,
   "metadata": {},
   "outputs": [
    {
     "name": "stdout",
     "output_type": "stream",
     "text": [
      "username: ai_teacher\n",
      "password: ········\n"
     ]
    }
   ],
   "source": [
    "## TEACHER\n",
    "from local.lib.rlxmoocapi import submit, session\n",
    "teacher = session.Session(init.endpoint).login()"
   ]
  },
  {
   "cell_type": "code",
   "execution_count": 23,
   "metadata": {},
   "outputs": [],
   "source": [
    "## TEACHER DEFINEGRADER\n",
    "def grader_01(functions, variables, caller_userid):\n",
    "    import numpy as np\n",
    "    \n",
    "    st_list = variables['lst']\n",
    "    st_max = variables['maximum']\n",
    "    st_min = variables['minimum']\n",
    "    t_max = np.max(st_list)\n",
    "    t_min = np.min(st_list)\n",
    "        \n",
    "    if (t_max==st_max) & (t_min==st_min):\n",
    "        return 5, '<b>correct</b>'\n",
    "    else:\n",
    "        return 0, '<b>incorrect</b>'\n",
    "    \n",
    "source_functions_names_01 = []\n",
    "source_variables_names_01 = ['lst', 'maximum', 'minimum']"
   ]
  },
  {
   "cell_type": "code",
   "execution_count": 24,
   "metadata": {},
   "outputs": [
    {
     "data": {
      "text/html": [
       "<h1>grade: <font color='red'>5</font></h1><hr><h1>grader message</h1><hr/><b>correct</b>"
      ],
      "text/plain": [
       "<IPython.core.display.HTML object>"
      ]
     },
     "execution_count": 24,
     "metadata": {},
     "output_type": "execute_result"
    }
   ],
   "source": [
    "## TEACHER\n",
    "teacher.run_grader_locally(\"grader_01\", source_functions_names_01, source_variables_names_01, locals())"
   ]
  },
  {
   "cell_type": "code",
   "execution_count": 25,
   "metadata": {},
   "outputs": [],
   "source": [
    "## TEACHER SETGRADER\n",
    "import inspect\n",
    "teacher.set_grader(init.course_id, \"L01.01\", 'T1',\n",
    "                  inspect.getsource(grader_01), 'grader_01',\n",
    "                  source_functions_names_01, source_variables_names_01)"
   ]
  },
  {
   "cell_type": "markdown",
   "metadata": {},
   "source": [
    "**Registra tu solución en linea**"
   ]
  },
  {
   "cell_type": "code",
   "execution_count": null,
   "metadata": {},
   "outputs": [],
   "source": [
    "student.submit_task(namespace=globals(), task_id='T1');"
   ]
  },
  {
   "cell_type": "markdown",
   "metadata": {},
   "source": [
    "## Ejercicio 2: Crea dos funciones que encuentren la media y desviación estándar\n",
    "\n",
    "Completa las dos funciones `list_mean` y `list_std` para que al recibir una lista o un vector `numpy` como argumento calculen la media y desviación estándar, respectivamente.\n",
    "\n",
    "Ejemplo:\n",
    "\n",
    "    > lst_1 = np.random.randint(10, size=5)\n",
    "    > print(lst_1)\n",
    "    > print(list_mean(lst_1))\n",
    "    > print(list_stdev(lst_1))\n",
    "    \n",
    "    [6 4 1 7 2]\n",
    "    4.0\n",
    "    2.280350850198276\n",
    "    "
   ]
  },
  {
   "cell_type": "code",
   "execution_count": null,
   "metadata": {},
   "outputs": [],
   "source": [
    "import numpy as np\n",
    "\n",
    "def list_mean(lst):\n",
    "    ## your code here ##\n",
    "    mean = ...\n",
    "    return mean\n",
    "\n",
    "def list_stdev(lst):\n",
    "    ## your code here ##\n",
    "    stdev = ...\n",
    "    return stdev"
   ]
  },
  {
   "cell_type": "code",
   "execution_count": null,
   "metadata": {},
   "outputs": [],
   "source": [
    "## TEACHER\n",
    "import numpy as np\n",
    "\n",
    "def list_mean(lst):\n",
    "    ## your code here ##\n",
    "    mean = np.mean(lst)\n",
    "    return mean\n",
    "\n",
    "def list_stdev(lst):\n",
    "    ## your code here ##\n",
    "    stdev = np.std(lst)\n",
    "    return stdev"
   ]
  },
  {
   "cell_type": "markdown",
   "metadata": {},
   "source": [
    "Prueba tus funciones"
   ]
  },
  {
   "cell_type": "code",
   "execution_count": null,
   "metadata": {},
   "outputs": [],
   "source": [
    "lst_1 = np.random.randint(10, size=5)\n",
    "print(lst_1)\n",
    "print(list_mean(lst_1))\n",
    "print(list_stdev(lst_1))"
   ]
  },
  {
   "cell_type": "code",
   "execution_count": null,
   "metadata": {},
   "outputs": [],
   "source": [
    "## TEACHER DEFINEGRADER\n",
    "def grader_02(functions, variables, caller_userid):\n",
    "    import numpy as np\n",
    "        \n",
    "    # retrieve definitions\n",
    "    namespace = locals()\n",
    "    for f in functions.values():\n",
    "        exec(f, namespace)\n",
    "\n",
    "    st_mean_funct = namespace['list_mean']\n",
    "    st_stdev_funct = namespace['list_stdev']\n",
    "    \n",
    "    error = False\n",
    "    msg = ''\n",
    "    \n",
    "    for i in range(100):\n",
    "        size = np.random.randint(20)+3\n",
    "        list = np.random.randint(10, size=size)\n",
    "        mean = np.mean(list)\n",
    "        stdev = np.std(list)\n",
    "        if not (mean==st_mean_funct(list)):\n",
    "            msg += \"input\\nlist = \\n%s\\n\"%(str(list))\n",
    "            msg += \"expected output:%s\\n\"%str(mean)\n",
    "            msg += \"output obtained:%s\\n\"%str(st_mean_funct(list))\n",
    "            error = True\n",
    "            break\n",
    "        if not (stdev==st_stdev_funct(list)):\n",
    "            msg += \"input\\nlist = \\n%s\\n\"%(str(list))\n",
    "            msg += \"expected output:%s\\n\"%str(stdev)\n",
    "            msg += \"output obtained:%s\\n\"%str(st_stdev_funct(list))\n",
    "            error = True\n",
    "            break\n",
    "    \n",
    "    if not error:\n",
    "        msg += u'<b>CORRECT</b>'\n",
    "        return 5, '<b>correct</b>'\n",
    "    else:\n",
    "        msg += u'<b><font color=\"red\">INCORRECT</font></b>'\n",
    "        return 0, msg\n",
    "    \n",
    "source_functions_names_02 = ['list_mean', 'list_stdev']\n",
    "source_variables_names_02 = []"
   ]
  },
  {
   "cell_type": "code",
   "execution_count": null,
   "metadata": {},
   "outputs": [],
   "source": [
    "## TEACHER\n",
    "teacher.run_grader_locally(\"grader_02\", source_functions_names_02, source_variables_names_02, locals())"
   ]
  },
  {
   "cell_type": "code",
   "execution_count": null,
   "metadata": {},
   "outputs": [],
   "source": [
    "## TEACHER SETGRADER\n",
    "teacher.set_grader(init.course_id, \"L01.01\", 'T2',\n",
    "                  inspect.getsource(grader_02), 'grader_02',\n",
    "                  source_functions_names_02, source_variables_names_02)"
   ]
  },
  {
   "cell_type": "markdown",
   "metadata": {},
   "source": [
    "**Registra tu solución en linea**"
   ]
  },
  {
   "cell_type": "code",
   "execution_count": null,
   "metadata": {},
   "outputs": [],
   "source": [
    "student.submit_task(namespace=globals(), task_id='T2');"
   ]
  },
  {
   "cell_type": "code",
   "execution_count": null,
   "metadata": {},
   "outputs": [],
   "source": []
  },
  {
   "cell_type": "code",
   "execution_count": null,
   "metadata": {},
   "outputs": [],
   "source": []
  },
  {
   "cell_type": "code",
   "execution_count": 26,
   "metadata": {},
   "outputs": [
    {
     "data": {
      "application/javascript": [
       "IPython.notebook.save_checkpoint();"
      ],
      "text/plain": [
       "<IPython.core.display.Javascript object>"
      ]
     },
     "metadata": {},
     "output_type": "display_data"
    },
    {
     "name": "stdout",
     "output_type": "stream",
     "text": [
      "student notebook writen to 'LAB 01 - SUBMISSION EXAMPLE.ipynb'\n"
     ]
    }
   ],
   "source": [
    "## TEACHER\n",
    "# --- CREATE or OVERWRITE STUDENTS NOTEBOOK --- \n",
    "import init\n",
    "from local.lib.rlxmoocapi import utils\n",
    "student_notebook_fname = utils.convert_this_notebook_to_student()"
   ]
  },
  {
   "cell_type": "code",
   "execution_count": 27,
   "metadata": {},
   "outputs": [
    {
     "name": "stdout",
     "output_type": "stream",
     "text": [
      "[main 012af7c] student notebook update\n",
      " 5 files changed, 1083 insertions(+), 1080 deletions(-)\n",
      " rewrite content/LAB 01 - SUBMISSION EXAMPLE.ipynb (96%)\n",
      " rewrite content/local/lib/rlxmoocapi/session.pye (99%)\n",
      " rewrite content/local/lib/rlxmoocapi/submit.pye (99%)\n",
      " rewrite content/local/lib/rlxmoocapi/unittests.pye (99%)\n",
      " rewrite content/local/lib/rlxmoocapi/utils.pye (98%)\n",
      "Enumerating objects: 21, done.\n",
      "Counting objects: 100% (21/21), done.\n",
      "Delta compression using up to 12 threads\n",
      "Compressing objects: 100% (11/11), done.\n",
      "Writing objects: 100% (11/11), 62.50 KiB | 2.50 MiB/s, done.\n",
      "Total 11 (delta 4), reused 0 (delta 0)\n",
      "remote: Resolving deltas: 100% (4/4), completed with 4 local objects.\u001b[K\n",
      "To https://github.com/rramosp/xxx\n",
      "   5857e60..012af7c  main -> main\n"
     ]
    }
   ],
   "source": [
    "## TEACHER\n",
    "# --- COMMIT YOUR CODE --- MUST HAVE git CONFIGURED WITH YOUR USERNAME AND PASSWORD ---\n",
    "!git commit -a -m \"student notebook update\";\n",
    "!git push;"
   ]
  },
  {
   "cell_type": "code",
   "execution_count": null,
   "metadata": {},
   "outputs": [],
   "source": []
  }
 ],
 "metadata": {
  "kernelspec": {
   "display_name": "p38",
   "language": "python",
   "name": "p38"
  },
  "language_info": {
   "codemirror_mode": {
    "name": "ipython",
    "version": 3
   },
   "file_extension": ".py",
   "mimetype": "text/x-python",
   "name": "python",
   "nbconvert_exporter": "python",
   "pygments_lexer": "ipython3",
   "version": "3.8.5"
  }
 },
 "nbformat": 4,
 "nbformat_minor": 4
}
