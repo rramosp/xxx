{
 "cells": [
  {
   "cell_type": "markdown",
   "metadata": {},
   "source": [
    "\n",
    "# 1. teacher \n",
    "\n",
    "the plaform admin must \n",
    "\n",
    "- give you an endpoint where the application is deployed\n",
    "- agree with you on a course_id and enable it on the platorm"
   ]
  },
  {
   "cell_type": "code",
   "execution_count": 1,
   "metadata": {},
   "outputs": [],
   "source": [
    "import init\n",
    "init.init(force_download=False)\n",
    "from local.lib.rlxmoocapi import submit, session, utils\n",
    "init.endpoint=\"http://localhost:5000/rlxmooc\"\n",
    "#init.endpoint = 'https://m5knaekxo6.execute-api.us-west-2.amazonaws.com/dev-v0001/rlxmooc'"
   ]
  },
  {
   "cell_type": "code",
   "execution_count": null,
   "metadata": {},
   "outputs": [],
   "source": []
  },
  {
   "cell_type": "markdown",
   "metadata": {},
   "source": [
    "## 1.A login as teacher \n"
   ]
  },
  {
   "cell_type": "code",
   "execution_count": 7,
   "metadata": {},
   "outputs": [
    {
     "name": "stdout",
     "output_type": "stream",
     "text": [
      "password: ········\n"
     ]
    }
   ],
   "source": [
    "teacher = session.Session(init.endpoint).login(\"test_teacher\")"
   ]
  },
  {
   "cell_type": "markdown",
   "metadata": {},
   "source": [
    "\n",
    "## 1.B setup course and graders in server"
   ]
  },
  {
   "cell_type": "code",
   "execution_count": 3,
   "metadata": {},
   "outputs": [
    {
     "name": "stdout",
     "output_type": "stream",
     "text": [
      "course id: 20201.test\n"
     ]
    }
   ],
   "source": [
    "course_id = utils.run_all_setgraders(teacher, init.course_id, \n",
    "                          set_grader_notebooks_fileglob=\"LAB 01.02*ipynb\")"
   ]
  },
  {
   "cell_type": "markdown",
   "metadata": {},
   "source": [
    "## 1.C create course session "
   ]
  },
  {
   "cell_type": "code",
   "execution_count": 8,
   "metadata": {},
   "outputs": [
    {
     "name": "stdout",
     "output_type": "stream",
     "text": [
      "creating session 20201.test guest, starting on 2020-09-01\n"
     ]
    }
   ],
   "source": [
    "session_id = \"guest\"\n",
    "utils.deploy_session(teacher, init.course_id, session_id, \"2020-09-01\")"
   ]
  },
  {
   "cell_type": "markdown",
   "metadata": {},
   "source": [
    "## 1.D invite students to join the course"
   ]
  },
  {
   "cell_type": "code",
   "execution_count": 13,
   "metadata": {},
   "outputs": [],
   "source": [
    "students = [\"rulix.rp@gmail.com\"]"
   ]
  },
  {
   "cell_type": "code",
   "execution_count": 14,
   "metadata": {},
   "outputs": [
    {
     "name": "stdout",
     "output_type": "stream",
     "text": [
      "rulix.rp@gmail.com {'already_incourse': 0, 'invalid_emails': [], 'invitations_sent': 1}\n"
     ]
    }
   ],
   "source": [
    "for i in students:\n",
    "    r = teacher.invite(init.course_id, \"UDEA\", [i])\n",
    "    print (i, r.json())"
   ]
  },
  {
   "cell_type": "markdown",
   "metadata": {},
   "source": [
    "## 1.E Enrol an existing student"
   ]
  },
  {
   "cell_type": "code",
   "execution_count": 12,
   "metadata": {},
   "outputs": [],
   "source": [
    "teacher.delete_user_session('test_student', course_id, session_id, delete_grades_and_submissions=False)"
   ]
  },
  {
   "cell_type": "code",
   "execution_count": 13,
   "metadata": {},
   "outputs": [
    {
     "name": "stdout",
     "output_type": "stream",
     "text": [
      "creating student course session\n"
     ]
    }
   ],
   "source": [
    "if not teacher.user_session_exists('test_student', course_id, session_id):\n",
    "    print (\"creating student course session\")\n",
    "    teacher.create_user_session('test_student', course_id, session_id)"
   ]
  },
  {
   "cell_type": "markdown",
   "metadata": {},
   "source": [
    "## 1.F check course and sessions"
   ]
  },
  {
   "cell_type": "code",
   "execution_count": 30,
   "metadata": {},
   "outputs": [],
   "source": [
    "c = teacher.get_course(\"20201.ai4eng\")"
   ]
  },
  {
   "cell_type": "code",
   "execution_count": 31,
   "metadata": {},
   "outputs": [],
   "source": [
    "cs  = teacher.get_course_session(\"20201.ai4eng\", \"UDEA\")"
   ]
  },
  {
   "cell_type": "code",
   "execution_count": 25,
   "metadata": {},
   "outputs": [
    {
     "data": {
      "text/plain": [
       "{'course_description': 'IA para Ingenierias y Ciencias',\n",
       " 'course_id': '20201.ai4eng',\n",
       " 'course_session_spec': {'course_id': '20201.ai4eng',\n",
       "  'end_date': '2020-12-22.00:00:00.[UTC-0500]',\n",
       "  'labs_dates': {'lab_01.01': {'end_date': '2020-11-10.00:00:00.[UTC-0500]',\n",
       "    'start_date': '2020-09-01.00:00:00.[UTC-0500]'},\n",
       "   'lab_01.02': {'end_date': '2020-11-10.00:00:00.[UTC-0500]',\n",
       "    'start_date': '2020-09-01.00:00:00.[UTC-0500]'},\n",
       "   'lab_02.01': {'end_date': '2020-11-10.00:00:00.[UTC-0500]',\n",
       "    'start_date': '2020-09-01.00:00:00.[UTC-0500]'},\n",
       "   'lab_02.02': {'end_date': '2020-11-10.00:00:00.[UTC-0500]',\n",
       "    'start_date': '2020-09-01.00:00:00.[UTC-0500]'},\n",
       "   'lab_02.03': {'end_date': '2020-11-10.00:00:00.[UTC-0500]',\n",
       "    'start_date': '2020-09-01.00:00:00.[UTC-0500]'},\n",
       "   'lab_03.01': {'end_date': '2020-11-10.00:00:00.[UTC-0500]',\n",
       "    'start_date': '2020-09-01.00:00:00.[UTC-0500]'},\n",
       "   'lab_03.02': {'end_date': '2020-11-10.00:00:00.[UTC-0500]',\n",
       "    'start_date': '2020-09-01.00:00:00.[UTC-0500]'},\n",
       "   'lab_04.01': {'end_date': '2020-11-10.00:00:00.[UTC-0500]',\n",
       "    'start_date': '2020-09-01.00:00:00.[UTC-0500]'},\n",
       "   'lab_04.02': {'end_date': '2020-11-10.00:00:00.[UTC-0500]',\n",
       "    'start_date': '2020-09-01.00:00:00.[UTC-0500]'},\n",
       "   'lab_05.01': {'end_date': '2020-12-22.00:00:00.[UTC-0500]',\n",
       "    'start_date': '2020-09-01.00:00:00.[UTC-0500]'},\n",
       "   'lab_05.02': {'end_date': '2020-12-22.00:00:00.[UTC-0500]',\n",
       "    'start_date': '2020-09-01.00:00:00.[UTC-0500]'},\n",
       "   'lab_06.01': {'end_date': '2020-12-22.00:00:00.[UTC-0500]',\n",
       "    'start_date': '2020-09-01.00:00:00.[UTC-0500]'},\n",
       "   'lab_06.02': {'end_date': '2020-12-22.00:00:00.[UTC-0500]',\n",
       "    'start_date': '2020-09-01.00:00:00.[UTC-0500]'},\n",
       "   'lab_07.01': {'end_date': '2020-12-22.00:00:00.[UTC-0500]',\n",
       "    'start_date': '2020-09-01.00:00:00.[UTC-0500]'},\n",
       "   'lab_07.02': {'end_date': '2020-12-22.00:00:00.[UTC-0500]',\n",
       "    'start_date': '2020-09-01.00:00:00.[UTC-0500]'}},\n",
       "  'session_id': 'UDEA',\n",
       "  'start_date': '2020-09-01.00:00:00.[UTC-0500]'},\n",
       " 'owner': 'test_teacher',\n",
       " 'participants': '[]',\n",
       " 'session_id': 'UDEA'}"
      ]
     },
     "execution_count": 25,
     "metadata": {},
     "output_type": "execute_result"
    }
   ],
   "source": [
    "cs"
   ]
  },
  {
   "cell_type": "markdown",
   "metadata": {},
   "source": [
    "## 1.D recompute grades for a student\n",
    "\n",
    "required very ocassionally"
   ]
  },
  {
   "cell_type": "code",
   "execution_count": 3,
   "metadata": {
    "scrolled": true
   },
   "outputs": [
    {
     "data": {
      "text/plain": [
       "{'grade': 3.81,\n",
       " 'labs': {'AI4ALL': {'grade': 5.0, 'tasks': {'cert': 5.0}},\n",
       "  'L01.01': {'grade': 5.0, 'tasks': {'task_01': 5.0, 'task_02': 5.0}},\n",
       "  'L01.02': {'grade': 4.75,\n",
       "   'tasks': {'task_01': 5.0, 'task_02': 4.0, 'task_03': 5.0, 'task_04': 5.0}},\n",
       "  'L02.01': {'grade': 5.0,\n",
       "   'tasks': {'task_01': 5.0, 'task_02': 5.0, 'task_03': 5.0, 'task_04': 5.0}},\n",
       "  'L02.02': {'grade': 5.0,\n",
       "   'tasks': {'task_01': 5.0, 'task_02': 5.0, 'task_03': 5.0, 'task_04': 5.0}},\n",
       "  'L02.03': {'grade': 5.0,\n",
       "   'tasks': {'task_01': 5.0, 'task_02': 5.0, 'task_03': 5.0}},\n",
       "  'L03.01': {'grade': 5.0,\n",
       "   'tasks': {'task_01': 5.0, 'task_02': 5.0, 'task_03': 5.0}},\n",
       "  'L03.02': {'grade': 5.0,\n",
       "   'tasks': {'task_01': 5.0, 'task_02': 5.0, 'task_03': 5.0}},\n",
       "  'L04.01': {'grade': 1.25,\n",
       "   'tasks': {'task_01': 5.0, 'task_02': 0, 'task_03': 0, 'task_04': 0}},\n",
       "  'L04.02': {'grade': 4.0,\n",
       "   'tasks': {'task_01': 5.0, 'task_02': 4.0, 'task_03': 3.0}},\n",
       "  'L05.01': {'grade': 0, 'tasks': {'task_01': 0, 'task_02': 0, 'task_03': 0}},\n",
       "  'L05.02': {'grade': 0,\n",
       "   'tasks': {'task_01': 0,\n",
       "    'task_02': 0,\n",
       "    'task_03': 0,\n",
       "    'task_04': 0,\n",
       "    'task_05': 0}},\n",
       "  'L06.01': {'grade': 0, 'tasks': {'task_01': 0, 'task_02': 0, 'task_03': 0}},\n",
       "  'L06.02': {'grade': 0, 'tasks': {'task_01': 0, 'task_02': 0, 'task_03': 0}},\n",
       "  'L07.01': {'grade': 0, 'tasks': {'task_01': 0, 'task_02': 0, 'task_03': 0}},\n",
       "  'L07.02': {'grade': 0, 'tasks': {'task_01': 0, 'task_02': 0, 'task_03': 0}},\n",
       "  'PROJECT': {'grade': 5.0,\n",
       "   'tasks': {'CLAR': 5.0, 'COMPL': 5.0, 'REPR': 5.0}}}}"
      ]
     },
     "execution_count": 3,
     "metadata": {},
     "output_type": "execute_result"
    }
   ],
   "source": [
    "session_id = \"UDEA\"\n",
    "course_id = \"20201.ai4eng\"\n",
    "teacher.recompute_user_session_grades(course_id, session_id, \"raulramospollan@yahoo.com\")"
   ]
  },
  {
   "cell_type": "code",
   "execution_count": null,
   "metadata": {},
   "outputs": [],
   "source": []
  },
  {
   "cell_type": "markdown",
   "metadata": {},
   "source": [
    "## 1.E setup student notebooks and repo"
   ]
  },
  {
   "cell_type": "code",
   "execution_count": 1,
   "metadata": {},
   "outputs": [
    {
     "name": "stdout",
     "output_type": "stream",
     "text": [
      "'LAB 01.01 - PRACTICE SUBMISSION.ipynb'\r\n",
      "'LAB 01.02 - METRICS.ipynb'\r\n",
      "'LAB 02.01 - PYTHON.ipynb'\r\n",
      "'LAB 02.02 - NUMPY.ipynb'\r\n",
      "'LAB 02.03 - PANDAS.ipynb'\r\n",
      "'LAB 03.01 - MODEL GENERATION.ipynb'\r\n",
      "'LAB 03.02 - TIMESERIES MODEL - ORANGE.ipynb'\r\n",
      "'LAB 04.01 - CLEANING DATA.ipynb'\r\n",
      "'LAB 04.02 - BUILDING DATASETS.ipynb'\r\n",
      "'LAB 05.01 - MEASURING PREDICTIVITY IMPACT.ipynb'\r\n",
      "'LAB 05.02 - MODEL EVALUATION.ipynb'\r\n",
      "'LAB 06.01 - CLUSTERING.ipynb'\r\n",
      "'LAB 06.02 - DIMENSIONALITY REDUCTION.ipynb'\r\n",
      "'LAB 07.01 - OPTIMIZATION FOR ML.ipynb'\r\n",
      "'LAB 07.02 - NEURAL NETWORKS.ipynb'\r\n",
      "'NOTES 02.02 - MODELS DERIVED FROM DATA.ipynb'\r\n"
     ]
    }
   ],
   "source": [
    "!ls LAB*ipynb NOTES*ipynb"
   ]
  },
  {
   "cell_type": "code",
   "execution_count": 1,
   "metadata": {},
   "outputs": [],
   "source": [
    "p = '../student/github/'\n",
    "n = !ls LAB*01.01*ipynb NOTES*ipynb\n",
    "n = [ [i,p+i] for i in n]"
   ]
  },
  {
   "cell_type": "code",
   "execution_count": 2,
   "metadata": {},
   "outputs": [
    {
     "name": "stdout",
     "output_type": "stream",
     "text": [
      "yy ['## KEEPOUTPUT\\n', \"a = 'asada'\\n\", 'b = a * 2\\n', 'print (a)\\n', 'b']\n",
      "xx ['\\n', \"a = 'asada'\\n\", 'b = a * 2\\n', 'print (a)\\n', 'b\\n']\n",
      "student notebook writen to '../student/github/LAB 01.01 - PRACTICE SUBMISSION.ipynb'\n",
      "yy ['## KEEPOUTPUT\\n', 'd1 = stats.norm(loc=10,scale=2)\\n', 'd2 = stats.norm(loc=17,scale=3)\\n', '\\n', '\\n', 'x = np.linspace(0,30,100)\\n', 'plt.plot(x, d1.pdf(x), color=\"red\", label=\"pop 1\")\\n', 'plt.plot(x, d2.pdf(x), color=\"blue\", label=\"pop 2\")\\n', 'plt.grid()\\n', 'plt.legend();']\n",
      "xx ['\\n', 'd1 = stats.norm(loc=10,scale=2)\\n', 'd2 = stats.norm(loc=17,scale=3)\\n', '\\n', '\\n', 'x = np.linspace(0,30,100)\\n', 'plt.plot(x, d1.pdf(x), color=\"red\", label=\"pop 1\")\\n', 'plt.plot(x, d2.pdf(x), color=\"blue\", label=\"pop 2\")\\n', 'plt.grid()\\n', 'plt.legend();\\n']\n",
      "yy ['## KEEPOUTPUT\\n', 'x = np.linspace(5,25,1000)\\n', 'minx = x[np.argmin(np.abs(d1.pdf(x)-d2.pdf(x)))]\\n', '\\n', 'print(\"frontera óptima en %.2f\"%minx)\\n', '\\n', 'x = np.linspace(0,30,100)\\n', 'plt.plot(x, d1.pdf(x), color=\"red\", label=\"pop 1\")\\n', 'plt.plot(x, d2.pdf(x), color=\"blue\", label=\"pop 2\")\\n', 'plt.axvline(minx, color=\"black\", label=\"óptimo = %.2f\"%minx)\\n', 'plt.grid()\\n', 'plt.legend();']\n",
      "xx ['\\n', 'x = np.linspace(5,25,1000)\\n', 'minx = x[np.argmin(np.abs(d1.pdf(x)-d2.pdf(x)))]\\n', '\\n', 'print(\"frontera óptima en %.2f\"%minx)\\n', '\\n', 'x = np.linspace(0,30,100)\\n', 'plt.plot(x, d1.pdf(x), color=\"red\", label=\"pop 1\")\\n', 'plt.plot(x, d2.pdf(x), color=\"blue\", label=\"pop 2\")\\n', 'plt.axvline(minx, color=\"black\", label=\"óptimo = %.2f\"%minx)\\n', 'plt.grid()\\n', 'plt.legend();\\n']\n",
      "yy ['## KEEPOUTPUT\\n', 'print(\"pop 1 error\", 1-d1.cdf(minx))\\n', 'print(\"pop 2 error\", d2.cdf(minx))']\n",
      "xx ['\\n', 'print(\"pop 1 error\", 1-d1.cdf(minx))\\n', 'print(\"pop 2 error\", d2.cdf(minx))\\n']\n",
      "yy ['## KEEPOUTPUT\\n', 'from local.lib import mlutils\\n', 'mlutils.show_1D_dataset_samples(100, d1, d2, n_datasets=1, dot_alpha=.5, line_alpha=0, figsize=(20,1))\\n', 'plt.axis(\"on\"); plt.ylim(.095, .105); plt.yticks([]); \\n', 'plt.axhline(.1, color=\"black\", alpha=.2)']\n",
      "xx ['\\n', 'from local.lib import mlutils\\n', 'mlutils.show_1D_dataset_samples(100, d1, d2, n_datasets=1, dot_alpha=.5, line_alpha=0, figsize=(20,1))\\n', 'plt.axis(\"on\"); plt.ylim(.095, .105); plt.yticks([]); \\n', 'plt.axhline(.1, color=\"black\", alpha=.2)\\n']\n",
      "yy ['## KEEPOUTPUT\\n', 'mlutils.show_1D_dataset_samples(10, d1, d2, dot_alpha=.3)']\n",
      "xx ['\\n', 'mlutils.show_1D_dataset_samples(10, d1, d2, dot_alpha=.3)\\n']\n",
      "yy ['## KEEPOUTPUT\\n', 'mlutils.show_1D_dataset_samples(100, d1, d2, dot_alpha=.05)']\n",
      "xx ['\\n', 'mlutils.show_1D_dataset_samples(100, d1, d2, dot_alpha=.05)\\n']\n",
      "yy ['## KEEPOUTPUT\\n', 'mlutils.show_1D_dataset_samples(10000, d1, d2, dot_alpha=.001)']\n",
      "xx ['\\n', 'mlutils.show_1D_dataset_samples(10000, d1, d2, dot_alpha=.001)\\n']\n",
      "yy ['## KEEPOUTPUT\\n', 'mc = mlutils.Example_Bayes2DClassifier(mean0=[1.5, 2.5], cov0=[[0.1, 0.], [0., 0.1]],\\n', '                                        mean1=[1.5, 2.], cov1=[[0.2,0.1],[0,.2]])\\n', 'X,y = mc.sample(500)\\n', 'mlutils.plot_2Ddata_with_boundary(mc.predict, X, y, line_width=3, line_color=\"green\", dots_alpha=.3)\\n', 'plt.title(\" $\\\\hat{\\\\epsilon}=%.3f$\"%(1-mc.score(X,y))+\"  $\\\\epsilon=%.3f$\"%(1-mc.analytic_score()));\\n', 'plt.grid();']\n",
      "xx ['\\n', 'mc = mlutils.Example_Bayes2DClassifier(mean0=[1.5, 2.5], cov0=[[0.1, 0.], [0., 0.1]],\\n', '                                        mean1=[1.5, 2.], cov1=[[0.2,0.1],[0,.2]])\\n', 'X,y = mc.sample(500)\\n', 'mlutils.plot_2Ddata_with_boundary(mc.predict, X, y, line_width=3, line_color=\"green\", dots_alpha=.3)\\n', 'plt.title(\" $\\\\hat{\\\\epsilon}=%.3f$\"%(1-mc.score(X,y))+\"  $\\\\epsilon=%.3f$\"%(1-mc.analytic_score()));\\n', 'plt.grid();\\n']\n",
      "yy ['## KEEPOUTPUT\\n', 'X,y = mc.sample(300)\\n', 'mlutils.plot_2Ddata(X, y, dots_alpha=.3)\\n', 'plt.grid()']\n",
      "xx ['\\n', 'X,y = mc.sample(300)\\n', 'mlutils.plot_2Ddata(X, y, dots_alpha=.3)\\n', 'plt.grid()\\n']\n",
      "yy ['## KEEPOUTPUT\\n', 'n_samples = 50\\n', 'estimator = LogisticRegression()\\n', 'estimator = SVC(gamma=100)\\n', 'plt.figure(figsize=(15,3))\\n', 'for i in range(3):\\n', '    plt.subplot(1,3,i+1)\\n', '    mlutils.plot_estimator_border(mc, estimator, mins=[0,-1], maxs=[3,4], n_samples=n_samples, legend=False)']\n",
      "xx ['\\n', 'n_samples = 50\\n', 'estimator = LogisticRegression()\\n', 'estimator = SVC(gamma=100)\\n', 'plt.figure(figsize=(15,3))\\n', 'for i in range(3):\\n', '    plt.subplot(1,3,i+1)\\n', '    mlutils.plot_estimator_border(mc, estimator, mins=[0,-1], maxs=[3,4], n_samples=n_samples, legend=False)\\n']\n",
      "yy ['## KEEPOUTPUT\\n', 'mlutils.sample_borders(mc, estimator, samples = [10,50,100,500], n_reps=20, mins=[0,-1], maxs=[3,4])']\n",
      "xx ['\\n', 'mlutils.sample_borders(mc, estimator, samples = [10,50,100,500], n_reps=20, mins=[0,-1], maxs=[3,4])\\n']\n",
      "yy ['## KEEPOUTPUT\\n', 'dataset_size = 200\\n', 'mc = mlutils.Example_Bayes2DClassifier(mean0=[1.5, 1.5], cov0=[[4., 0.5], [0.1, 4.]],\\n', '                                        mean1=[1.5,4.], cov1=[[1,0.5],[0.1,1.]])\\n', 'X,y = mc.sample(dataset_size)\\n', 'mlutils.plot_estimator_border(mc, n_samples=dataset_size, legend=False)\\n', 'analitic_score = mc.analytic_score()']\n",
      "xx ['\\n', 'dataset_size = 200\\n', 'mc = mlutils.Example_Bayes2DClassifier(mean0=[1.5, 1.5], cov0=[[4., 0.5], [0.1, 4.]],\\n', '                                        mean1=[1.5,4.], cov1=[[1,0.5],[0.1,1.]])\\n', 'X,y = mc.sample(dataset_size)\\n', 'mlutils.plot_estimator_border(mc, n_samples=dataset_size, legend=False)\\n', 'analitic_score = mc.analytic_score()\\n']\n",
      "yy ['## KEEPOUTPUT\\n', 'test_pct = .3\\n', 'X_train, X_test, y_train, y_test = train_test_split(X,y,test_size=test_pct)\\n', 'print(X_train.shape, y_train.shape)\\n', 'print(X_test.shape, y_test.shape)']\n",
      "xx ['\\n', 'test_pct = .3\\n', 'X_train, X_test, y_train, y_test = train_test_split(X,y,test_size=test_pct)\\n', 'print(X_train.shape, y_train.shape)\\n', 'print(X_test.shape, y_test.shape)\\n']\n",
      "yy ['## KEEPOUTPUT\\n', 'plt.figure(figsize=(10,3))\\n', 'plt.subplot(121)\\n', 'mlutils.plot_2Ddata(X_train, y_train, dots_alpha=.3)\\n', 'plt.title(\"train data\")\\n', 'plt.grid()\\n', 'plt.subplot(122)\\n', 'mlutils.plot_2Ddata(X_test, y_test, dots_alpha=.3)\\n', 'plt.grid()\\n', 'plt.title(\"test data\")']\n",
      "xx ['\\n', 'plt.figure(figsize=(10,3))\\n', 'plt.subplot(121)\\n', 'mlutils.plot_2Ddata(X_train, y_train, dots_alpha=.3)\\n', 'plt.title(\"train data\")\\n', 'plt.grid()\\n', 'plt.subplot(122)\\n', 'mlutils.plot_2Ddata(X_test, y_test, dots_alpha=.3)\\n', 'plt.grid()\\n', 'plt.title(\"test data\")\\n']\n",
      "yy ['## KEEPOUTPUT\\n', 'print(\"accuracy train %.2f\"%estimator.score(X_train,y_train))\\n', 'tr_preds = estimator.predict(X_train)\\n', 'print(\"predicciones para train\")\\n', 'print(tr_preds)\\n', 'print(\"ground truth para train\")\\n', 'print(y_train)']\n",
      "xx ['\\n', 'print(\"accuracy train %.2f\"%estimator.score(X_train,y_train))\\n', 'tr_preds = estimator.predict(X_train)\\n', 'print(\"predicciones para train\")\\n', 'print(tr_preds)\\n', 'print(\"ground truth para train\")\\n', 'print(y_train)\\n']\n",
      "yy ['## KEEPOUTPUT\\n', 'print(\"\\\\naccuracy test %.2f\"%estimator.score(X_test,y_test))\\n', 'ts_preds = estimator.predict(X_test)\\n', 'print(\"predicciones para test\")\\n', 'print(ts_preds)\\n', 'print(\"ground truth para test\")\\n', 'print(y_test)']\n",
      "xx ['\\n', 'print(\"\\\\naccuracy test %.2f\"%estimator.score(X_test,y_test))\\n', 'ts_preds = estimator.predict(X_test)\\n', 'print(\"predicciones para test\")\\n', 'print(ts_preds)\\n', 'print(\"ground truth para test\")\\n', 'print(y_test)\\n']\n",
      "yy ['## KEEPOUTPUT\\n', 'estimator = SVC(gamma=.001)\\n', '\\n', 'X_train, X_test, y_train, y_test = train_test_split(X,y,test_size=.1)\\n', 'estimator.fit(X_train, y_train)\\n', 'trsc = estimator.score(X_train, y_train)\\n', 'tssc = estimator.score(X_test, y_test)\\n', 'print(\"train_score %5.2f\"%estimator.score(X_train, y_train))\\n', 'print(\"test_score  %5.2f\"%estimator.score(X_test, y_test))\\n', '\\n', 'plt.figure(figsize=(10,3))\\n', 'plt.subplot(121)\\n', 'mlutils.plot_2Ddata(X_train, y_train, dots_alpha=.3)\\n', 'mlutils.plot_2D_boundary(estimator.predict, np.min(X, axis=0), np.max(X, axis=0),\\n', '                 line_width=3, line_alpha=.7, label=None)\\n', 'plt.title(\"train accuracy %.5f\"%estimator.score(X_train, y_train))\\n', '\\n', 'mlutils.plot_2D_boundary(mc.predict, np.min(X, axis=0), np.max(X, axis=0),\\n', '                 line_width=1, line_alpha=1., line_color=\"green\", label=\"bayes boundary\")\\n', '\\n', 'plt.subplot(122)\\n', 'mlutils.plot_2Ddata(X_test, y_test, dots_alpha=.3)\\n', 'mlutils.plot_2D_boundary(estimator.predict, np.min(X, axis=0), np.max(X, axis=0),\\n', '                 line_width=3, line_alpha=.7, label=None)\\n', 'plt.title(\"test accuracy  %.5f\"%estimator.score(X_test, y_test))\\n', 'mlutils.plot_2D_boundary(mc.predict, np.min(X, axis=0), np.max(X, axis=0),\\n', '                 line_width=1, line_alpha=1., line_color=\"green\", label=\"bayes boundary\")']\n",
      "xx ['\\n', 'estimator = SVC(gamma=.001)\\n', '\\n', 'X_train, X_test, y_train, y_test = train_test_split(X,y,test_size=.1)\\n', 'estimator.fit(X_train, y_train)\\n', 'trsc = estimator.score(X_train, y_train)\\n', 'tssc = estimator.score(X_test, y_test)\\n', 'print(\"train_score %5.2f\"%estimator.score(X_train, y_train))\\n', 'print(\"test_score  %5.2f\"%estimator.score(X_test, y_test))\\n', '\\n', 'plt.figure(figsize=(10,3))\\n', 'plt.subplot(121)\\n', 'mlutils.plot_2Ddata(X_train, y_train, dots_alpha=.3)\\n', 'mlutils.plot_2D_boundary(estimator.predict, np.min(X, axis=0), np.max(X, axis=0),\\n', '                 line_width=3, line_alpha=.7, label=None)\\n', 'plt.title(\"train accuracy %.5f\"%estimator.score(X_train, y_train))\\n', '\\n', 'mlutils.plot_2D_boundary(mc.predict, np.min(X, axis=0), np.max(X, axis=0),\\n', '                 line_width=1, line_alpha=1., line_color=\"green\", label=\"bayes boundary\")\\n', '\\n', 'plt.subplot(122)\\n', 'mlutils.plot_2Ddata(X_test, y_test, dots_alpha=.3)\\n', 'mlutils.plot_2D_boundary(estimator.predict, np.min(X, axis=0), np.max(X, axis=0),\\n', '                 line_width=3, line_alpha=.7, label=None)\\n', 'plt.title(\"test accuracy  %.5f\"%estimator.score(X_test, y_test))\\n', 'mlutils.plot_2D_boundary(mc.predict, np.min(X, axis=0), np.max(X, axis=0),\\n', '                 line_width=1, line_alpha=1., line_color=\"green\", label=\"bayes boundary\")\\n']\n",
      "yy ['## KEEPOUTPUT\\n', 'estimator = LogisticRegression()\\n', 'mlutils.lcurve(estimator, X, y, n_reps=20, score_func=accuracy_score)\\n', 'plt.axhline(analitic_score, lw=2, color=\"black\", label=\"bayes score\")\\n', \"plt.legend(loc='center left', bbox_to_anchor=(1, 0.5))\\n\", 'plt.ylim(0.7,1.0);']\n",
      "xx ['\\n', 'estimator = LogisticRegression()\\n', 'mlutils.lcurve(estimator, X, y, n_reps=20, score_func=accuracy_score)\\n', 'plt.axhline(analitic_score, lw=2, color=\"black\", label=\"bayes score\")\\n', \"plt.legend(loc='center left', bbox_to_anchor=(1, 0.5))\\n\", 'plt.ylim(0.7,1.0);\\n']\n",
      "yy ['## KEEPOUTPUT\\n', 'estimator = SVC(gamma=1)\\n', 'mlutils.lcurve(estimator, X, y, n_reps=20, score_func=accuracy_score)\\n', 'plt.axhline(analitic_score, lw=2, color=\"black\", label=\"bayes score\")\\n', \"plt.legend(loc='center left', bbox_to_anchor=(1, 0.5))\\n\", 'plt.ylim(0.7,1.0);']\n",
      "xx ['\\n', 'estimator = SVC(gamma=1)\\n', 'mlutils.lcurve(estimator, X, y, n_reps=20, score_func=accuracy_score)\\n', 'plt.axhline(analitic_score, lw=2, color=\"black\", label=\"bayes score\")\\n', \"plt.legend(loc='center left', bbox_to_anchor=(1, 0.5))\\n\", 'plt.ylim(0.7,1.0);\\n']\n",
      "yy ['## KEEPOUTPUT\\n', 'estimator = SVC(gamma=100)\\n', 'mlutils.lcurve(estimator, X, y, n_reps=20, score_func=accuracy_score)\\n', 'plt.axhline(analitic_score, lw=2, color=\"black\", label=\"bayes score\")\\n', \"plt.legend(loc='center left', bbox_to_anchor=(1, 0.5))\\n\", 'plt.ylim(0.4,1.0);']\n",
      "xx ['\\n', 'estimator = SVC(gamma=100)\\n', 'mlutils.lcurve(estimator, X, y, n_reps=20, score_func=accuracy_score)\\n', 'plt.axhline(analitic_score, lw=2, color=\"black\", label=\"bayes score\")\\n', \"plt.legend(loc='center left', bbox_to_anchor=(1, 0.5))\\n\", 'plt.ylim(0.4,1.0);\\n']\n",
      "student notebook writen to '../student/github/NOTES 02.02 - MODELS DERIVED FROM DATA.ipynb'\n"
     ]
    }
   ],
   "source": [
    "from local.lib.rlxmoocapi import utils\n",
    "for s,t in n:\n",
    "    utils.create_student_lab(s, t, enable_wgets=True)"
   ]
  },
  {
   "cell_type": "markdown",
   "metadata": {},
   "source": [
    "## 1.F check stuff for a student"
   ]
  },
  {
   "cell_type": "code",
   "execution_count": 1,
   "metadata": {},
   "outputs": [],
   "source": [
    "import init\n",
    "from local.lib.rlxmoocapi import submit, session, utils\n",
    "init.endpoint=\"http://localhost:5000/rlxmooc\"\n"
   ]
  },
  {
   "cell_type": "code",
   "execution_count": 3,
   "metadata": {},
   "outputs": [
    {
     "name": "stdout",
     "output_type": "stream",
     "text": [
      "password: ········\n"
     ]
    }
   ],
   "source": [
    "student = session.Session(init.endpoint).login(\"test_student\", course_id=\"20201.test\", session_id='UDEA')"
   ]
  },
  {
   "cell_type": "code",
   "execution_count": 4,
   "metadata": {},
   "outputs": [
    {
     "data": {
      "text/plain": [
       "{'20201.test::UDEA': {'course_description': 'Test Course',\n",
       "  'course_id': '20201.test',\n",
       "  'course_session_spec': {'course_id': '20201.test',\n",
       "   'end_date': '2021-06-15.00:00:00.[UTC-0500]',\n",
       "   'labs_dates': {'lab_01': {'end_date': '2021-06-15.00:00:00.[UTC-0500]',\n",
       "     'start_date': '2020-09-08.00:00:00.[UTC-0500]'}},\n",
       "   'session_id': 'UDEA',\n",
       "   'start_date': '2020-09-01.00:00:00.[UTC-0500]'},\n",
       "  'owner': 'test_teacher',\n",
       "  'participants': '[]',\n",
       "  'session_id': 'UDEA'},\n",
       " '20201.test::guest': {'course_description': 'Test Course',\n",
       "  'course_id': '20201.test',\n",
       "  'course_session_spec': {'course_id': '20201.test',\n",
       "   'end_date': '2021-06-15.00:00:00.[UTC-0500]',\n",
       "   'labs_dates': {'lab_01': {'end_date': '2021-06-15.00:00:00.[UTC-0500]',\n",
       "     'start_date': '2020-09-08.00:00:00.[UTC-0500]'}},\n",
       "   'session_id': 'guest',\n",
       "   'start_date': '2020-09-01.00:00:00.[UTC-0500]'},\n",
       "  'owner': 'test_teacher',\n",
       "  'participants': '[]',\n",
       "  'session_id': 'guest'}}"
      ]
     },
     "execution_count": 4,
     "metadata": {},
     "output_type": "execute_result"
    }
   ],
   "source": [
    "student.get_user_sessions()"
   ]
  },
  {
   "cell_type": "code",
   "execution_count": 5,
   "metadata": {},
   "outputs": [
    {
     "data": {
      "text/plain": [
       "{'course_description': 'Test Course',\n",
       " 'course_id': '20201.test',\n",
       " 'course_session_spec': {'course_id': '20201.test',\n",
       "  'end_date': '2021-06-15.00:00:00.[UTC-0500]',\n",
       "  'labs_dates': {'lab_01': {'end_date': '2021-06-15.00:00:00.[UTC-0500]',\n",
       "    'start_date': '2020-09-08.00:00:00.[UTC-0500]'}},\n",
       "  'session_id': 'UDEA',\n",
       "  'start_date': '2020-09-01.00:00:00.[UTC-0500]'},\n",
       " 'session_id': 'UDEA'}"
      ]
     },
     "execution_count": 5,
     "metadata": {},
     "output_type": "execute_result"
    }
   ],
   "source": [
    "student.course_session"
   ]
  },
  {
   "cell_type": "code",
   "execution_count": null,
   "metadata": {},
   "outputs": [],
   "source": []
  }
 ],
 "metadata": {
  "kernelspec": {
   "display_name": "Python 3",
   "language": "python",
   "name": "python3"
  },
  "language_info": {
   "codemirror_mode": {
    "name": "ipython",
    "version": 3
   },
   "file_extension": ".py",
   "mimetype": "text/x-python",
   "name": "python",
   "nbconvert_exporter": "python",
   "pygments_lexer": "ipython3",
   "version": "3.7.3"
  }
 },
 "nbformat": 4,
 "nbformat_minor": 2
}
